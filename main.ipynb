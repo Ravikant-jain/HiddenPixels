{
 "cells": [
  {
   "cell_type": "code",
   "execution_count": 21,
   "metadata": {},
   "outputs": [],
   "source": [
    "import csv\n",
    "from PIL import Image\n",
    "import numpy as np\n",
    "import os"
   ]
  },
  {
   "cell_type": "code",
   "execution_count": 22,
   "metadata": {},
   "outputs": [
    {
     "name": "stdout",
     "output_type": "stream",
     "text": [
      "Array shape: (551, 414, 3)\n"
     ]
    },
    {
     "data": {
      "text/plain": [
       "array([[[207, 205, 193],\n",
       "        [203, 201, 189],\n",
       "        [170, 168, 156],\n",
       "        ...,\n",
       "        [159, 159, 159],\n",
       "        [228, 227, 232],\n",
       "        [227, 226, 231]],\n",
       "\n",
       "       [[201, 199, 187],\n",
       "        [197, 195, 183],\n",
       "        [211, 209, 197],\n",
       "        ...,\n",
       "        [162, 162, 162],\n",
       "        [228, 227, 232],\n",
       "        [227, 226, 231]],\n",
       "\n",
       "       [[191, 189, 177],\n",
       "        [209, 207, 195],\n",
       "        [204, 202, 190],\n",
       "        ...,\n",
       "        [171, 171, 171],\n",
       "        [230, 229, 234],\n",
       "        [227, 226, 231]],\n",
       "\n",
       "       ...,\n",
       "\n",
       "       [[ 38,  43,  47],\n",
       "        [ 38,  43,  47],\n",
       "        [ 31,  36,  40],\n",
       "        ...,\n",
       "        [ 31,  34,  39],\n",
       "        [226, 229, 234],\n",
       "        [224, 227, 232]],\n",
       "\n",
       "       [[ 18,  23,  27],\n",
       "        [ 33,  38,  42],\n",
       "        [ 27,  32,  36],\n",
       "        ...,\n",
       "        [ 29,  32,  37],\n",
       "        [226, 229, 234],\n",
       "        [226, 229, 234]],\n",
       "\n",
       "       [[ 31,  36,  40],\n",
       "        [ 53,  58,  62],\n",
       "        [ 36,  41,  45],\n",
       "        ...,\n",
       "        [ 34,  37,  42],\n",
       "        [227, 230, 235],\n",
       "        [224, 227, 232]]], dtype=uint8)"
      ]
     },
     "execution_count": 22,
     "metadata": {},
     "output_type": "execute_result"
    }
   ],
   "source": [
    "# Load the image using Pillow\n",
    "image = Image.open(\"noisy.png\")\n",
    "\n",
    "# Convert the image to a NumPy array\n",
    "data = np.array(image)\n",
    "\n",
    "# Print the shape of the array\n",
    "print(\"Array shape:\", data.shape)\n",
    "dim = data.shape\n",
    "data"
   ]
  },
  {
   "cell_type": "code",
   "execution_count": 23,
   "metadata": {},
   "outputs": [
    {
     "data": {
      "text/plain": [
       "(551, 414, 3)"
      ]
     },
     "execution_count": 23,
     "metadata": {},
     "output_type": "execute_result"
    }
   ],
   "source": [
    "newdata=data\n",
    "newdata.shape"
   ]
  },
  {
   "cell_type": "code",
   "execution_count": 24,
   "metadata": {},
   "outputs": [
    {
     "data": {
      "text/plain": [
       "array([[[207, 205, 193],\n",
       "        [203, 201, 189],\n",
       "        [170, 168, 156],\n",
       "        ...,\n",
       "        [159, 159, 159],\n",
       "        [228, 227, 232],\n",
       "        [227, 226, 231]],\n",
       "\n",
       "       [[201, 199, 187],\n",
       "        [197, 195, 183],\n",
       "        [211, 209, 197],\n",
       "        ...,\n",
       "        [162, 162, 162],\n",
       "        [228, 227, 232],\n",
       "        [227, 226, 231]],\n",
       "\n",
       "       [[191, 189, 177],\n",
       "        [209, 207, 195],\n",
       "        [204, 202, 190],\n",
       "        ...,\n",
       "        [171, 171, 171],\n",
       "        [230, 229, 234],\n",
       "        [227, 226, 231]],\n",
       "\n",
       "       ...,\n",
       "\n",
       "       [[ 38,  43,  47],\n",
       "        [ 38,  43,  47],\n",
       "        [ 31,  36,  40],\n",
       "        ...,\n",
       "        [ 31,  34,  39],\n",
       "        [226, 229, 234],\n",
       "        [224, 227, 232]],\n",
       "\n",
       "       [[ 18,  23,  27],\n",
       "        [ 33,  38,  42],\n",
       "        [ 27,  32,  36],\n",
       "        ...,\n",
       "        [ 29,  32,  37],\n",
       "        [226, 229, 234],\n",
       "        [226, 229, 234]],\n",
       "\n",
       "       [[ 31,  36,  40],\n",
       "        [ 53,  58,  62],\n",
       "        [ 36,  41,  45],\n",
       "        ...,\n",
       "        [ 34,  37,  42],\n",
       "        [227, 230, 235],\n",
       "        [224, 227, 232]]], dtype=uint8)"
      ]
     },
     "execution_count": 24,
     "metadata": {},
     "output_type": "execute_result"
    }
   ],
   "source": [
    "# newdata[1,0,0]=70\n",
    "newdata"
   ]
  },
  {
   "cell_type": "code",
   "execution_count": 25,
   "metadata": {},
   "outputs": [],
   "source": [
    "nae=[]"
   ]
  },
  {
   "cell_type": "code",
   "execution_count": 26,
   "metadata": {},
   "outputs": [
    {
     "name": "stdout",
     "output_type": "stream",
     "text": [
      "[203]\n"
     ]
    }
   ],
   "source": [
    "\n",
    "for row in data:\n",
    "    # print(f'{row}\\n\\n{row[0]}\\n\\n{row[0,0]}\\n\\n{row.shape}')\n",
    "    nae.append(data[0,1,0])\n",
    "    print(nae)\n",
    "    break"
   ]
  },
  {
   "cell_type": "code",
   "execution_count": 40,
   "metadata": {},
   "outputs": [],
   "source": [
    "#this is fucking slow way                                        551, 414, 3\n",
    "\n",
    "def writer(data):\n",
    "    file_name = \"encrypted.csv\"\n",
    "    with open(file_name, mode=\"w\", newline=\"\") as csv_file:\n",
    "        \n",
    "    # Create a CSV writer object\n",
    "        writer = csv.writer(csv_file)\n",
    "\n",
    "    # Write the data to the CSV file\n",
    "        for x in range(0,551):\n",
    "            liss=[]\n",
    "            for y in range(0,414):\n",
    "                for z in range(0,3):\n",
    "                    liss.append(data[x,y,z])\n",
    "            writer.writerow(liss)\n",
    "    os.system(f'start excel {file_name}')\n",
    " \n",
    "writer(data)\n",
    "    "
   ]
  },
  {
   "cell_type": "code",
   "execution_count": null,
   "metadata": {},
   "outputs": [],
   "source": [
    "finar=[]\n",
    "with open(\"encrypted.csv\", mode=\"r\") as csv_file:\n",
    "    num = csv_file.readline(1242)\n",
    "    \n",
    "    for ay in range(0,413):\n",
    "        arr=[]\n",
    "        for ele in range(0,2):    \n",
    "            x=num[ele]\n",
    "            arr.apppend(x)\n",
    "        finar.append(arr)\n",
    "print(finar)"
   ]
  },
  {
   "attachments": {},
   "cell_type": "markdown",
   "metadata": {},
   "source": [
    "(551, 414, 3)"
   ]
  },
  {
   "cell_type": "code",
   "execution_count": 87,
   "metadata": {},
   "outputs": [
    {
     "name": "stdout",
     "output_type": "stream",
     "text": [
      "1242\n",
      "0\n"
     ]
    }
   ],
   "source": [
    "\n",
    "pfinar=[]\n",
    "index=0\n",
    "with open(\"encrypted.csv\", mode=\"r\") as csv_file:\n",
    "    num = csv_file.readline()\n",
    "    num = num.split(',')\n",
    "    print(len(num))\n",
    "    rang= int(len(num)/3)\n",
    "    \n",
    "    for rld in range(0,551):\n",
    "        finar=[]\n",
    "        for j in range(rang):\n",
    "\n",
    "            tarr=[]\n",
    "            while index>1242:\n",
    "                for i in range(3):\n",
    "                    print(index)                \n",
    "                    tarr.append(num[index])\n",
    "                    index+=1\n",
    "                finar.append(tarr)\n",
    "            # for x57 in range(0,3)\n",
    "        pfinar.append(finar)\n",
    "    \n",
    "print(len(finar))"
   ]
  },
  {
   "cell_type": "code",
   "execution_count": 84,
   "metadata": {},
   "outputs": [
    {
     "name": "stdout",
     "output_type": "stream",
     "text": [
      "1242\n",
      "414\n"
     ]
    }
   ],
   "source": [
    "finar=[]\n",
    "\n",
    "index=0\n",
    "with open(\"encrypted.csv\", mode=\"r\") as csv_file:\n",
    "    num = csv_file.readline()\n",
    "    num = num.split(',')\n",
    "    print(len(num))\n",
    "    rang= int(len(num)/3)\n",
    "    \n",
    "    for j in range(rang):\n",
    "        # print(j)\n",
    "        tarr=[]\n",
    "        for i in range(3):\n",
    "            \n",
    "            tarr.append(num[index])\n",
    "            index+=1\n",
    "        finar.append(tarr)\n",
    "        # for x57 in range(0,3)\n",
    "\n",
    "    \n",
    "print(len(finar))"
   ]
  },
  {
   "cell_type": "code",
   "execution_count": 29,
   "metadata": {},
   "outputs": [
    {
     "name": "stdout",
     "output_type": "stream",
     "text": [
      "[]\n"
     ]
    }
   ],
   "source": [
    "\n",
    "dataaa = []\n",
    "with open(\"encrypted.csv\", mode=\"r\") as csv_file:\n",
    "    reader = csv.reader(csv_file)\n",
    "    rows=list(reader)\n",
    "    for row in reader:\n",
    "        # row=np.array(row)\n",
    "        print(row[0,0])    \n",
    "    # for i in range(414):\n",
    "    #     dataaa.append(row[i])\n",
    "        \n",
    "        # dataaa.append([int(cell) for cell in row])\n",
    "# dataaa=np.array(dataaa)\n",
    "print(dataaa)"
   ]
  },
  {
   "cell_type": "code",
   "execution_count": 38,
   "metadata": {},
   "outputs": [],
   "source": [
    "writer(data)\n",
    "filename = \"encrypted.csv\""
   ]
  },
  {
   "cell_type": "code",
   "execution_count": 37,
   "metadata": {},
   "outputs": [],
   "source": [
    "new_image = Image.fromarray(newdata)\n",
    "print(new_image)\n",
    "# Save the new image to a file\n",
    "new_image.save(\"new_image.png\")"
   ]
  },
  {
   "cell_type": "code",
   "execution_count": null,
   "metadata": {},
   "outputs": [],
   "source": []
  }
 ],
 "metadata": {
  "kernelspec": {
   "display_name": "Python 3",
   "language": "python",
   "name": "python3"
  },
  "language_info": {
   "codemirror_mode": {
    "name": "ipython",
    "version": 3
   },
   "file_extension": ".py",
   "mimetype": "text/x-python",
   "name": "python",
   "nbconvert_exporter": "python",
   "pygments_lexer": "ipython3",
   "version": "3.10.5"
  },
  "orig_nbformat": 4
 },
 "nbformat": 4,
 "nbformat_minor": 2
}
